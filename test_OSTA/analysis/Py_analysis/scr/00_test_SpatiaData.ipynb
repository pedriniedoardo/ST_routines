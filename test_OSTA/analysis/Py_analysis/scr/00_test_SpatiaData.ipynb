{
 "cells": [
  {
   "cell_type": "code",
   "execution_count": 1,
   "metadata": {},
   "outputs": [
    {
     "name": "stderr",
     "output_type": "stream",
     "text": [
      "/home/edo/micromamba/envs/env_SpatialData/lib/python3.12/site-packages/dask/dataframe/__init__.py:31: FutureWarning: The legacy Dask DataFrame implementation is deprecated and will be removed in a future version. Set the configuration option `dataframe.query-planning` to `True` or None to enable the new Dask Dataframe implementation and silence this warning.\n",
      "  warnings.warn(\n",
      "/home/edo/micromamba/envs/env_SpatialData/lib/python3.12/site-packages/numba/core/decorators.py:246: RuntimeWarning: nopython is set for njit and is ignored\n",
      "  warnings.warn('nopython is set for njit and is ignored', RuntimeWarning)\n",
      "/home/edo/micromamba/envs/env_SpatialData/lib/python3.12/site-packages/anndata/utils.py:429: FutureWarning: Importing read_text from `anndata` is deprecated. Import anndata.io.read_text instead.\n",
      "  warnings.warn(msg, FutureWarning)\n"
     ]
    }
   ],
   "source": [
    "import anndata as ad\n",
    "import spatialdata as sd\n",
    "from spatialdata.models import Image2DModel, PointsModel\n",
    "from spatialdata.transformations import set_transformation\n",
    "import numpy as np\n",
    "import matplotlib.pyplot as plt\n",
    "from spatialdata_io.experimental import from_legacy_anndata\n",
    "\n",
    "# Load your spatial AnnData\n",
    "adata = ad.read_h5ad(\"../../../data/visium_hne_adat.h5ad\")"
   ]
  },
  {
   "cell_type": "code",
   "execution_count": 2,
   "metadata": {},
   "outputs": [
    {
     "data": {
      "text/plain": [
       "array([[8230, 7237],\n",
       "       [4170, 1611],\n",
       "       [2519, 8315],\n",
       "       ...,\n",
       "       [3276, 8435],\n",
       "       [3069, 6639],\n",
       "       [4720, 2090]])"
      ]
     },
     "execution_count": 2,
     "metadata": {},
     "output_type": "execute_result"
    }
   ],
   "source": [
    "adata.obsm[\"spatial\"]"
   ]
  },
  {
   "cell_type": "code",
   "execution_count": 3,
   "metadata": {},
   "outputs": [
    {
     "name": "stdout",
     "output_type": "stream",
     "text": [
      "\u001b[34mINFO    \u001b[0m Transposing `data` of type: \u001b[1m<\u001b[0m\u001b[1;95mclass\u001b[0m\u001b[39m \u001b[0m\u001b[32m'dask.array.core.Array'\u001b[0m\u001b[1m>\u001b[0m to \u001b[1m(\u001b[0m\u001b[32m'c'\u001b[0m, \u001b[32m'y'\u001b[0m, \u001b[32m'x'\u001b[0m\u001b[1m)\u001b[0m.                           \n",
      "\u001b[34mINFO    \u001b[0m Transposing `data` of type: \u001b[1m<\u001b[0m\u001b[1;95mclass\u001b[0m\u001b[39m \u001b[0m\u001b[32m'dask.array.core.Array'\u001b[0m\u001b[1m>\u001b[0m to \u001b[1m(\u001b[0m\u001b[32m'c'\u001b[0m, \u001b[32m'y'\u001b[0m, \u001b[32m'x'\u001b[0m\u001b[1m)\u001b[0m.                           \n"
     ]
    },
    {
     "data": {
      "text/plain": [
       "SpatialData object\n",
       "├── Images\n",
       "│     ├── 'V1_Adult_Mouse_Brain_hires_image': DataArray[cyx] (3, 2000, 1921)\n",
       "│     └── 'V1_Adult_Mouse_Brain_lowres_image': DataArray[cyx] (3, 600, 576)\n",
       "├── Shapes\n",
       "│     └── 'locations': GeoDataFrame shape: (2688, 2) (2D shapes)\n",
       "└── Tables\n",
       "      └── 'table': AnnData (2688, 18078)\n",
       "with coordinate systems:\n",
       "    ▸ 'V1_Adult_Mouse_Brain_downscaled_hires', with elements:\n",
       "        V1_Adult_Mouse_Brain_hires_image (Images), locations (Shapes)\n",
       "    ▸ 'V1_Adult_Mouse_Brain_downscaled_lowres', with elements:\n",
       "        V1_Adult_Mouse_Brain_lowres_image (Images), locations (Shapes)"
      ]
     },
     "execution_count": 3,
     "metadata": {},
     "output_type": "execute_result"
    }
   ],
   "source": [
    "sdata = from_legacy_anndata(adata)\n",
    "sdata"
   ]
  },
  {
   "cell_type": "code",
   "execution_count": 4,
   "metadata": {},
   "outputs": [
    {
     "ename": "AttributeError",
     "evalue": "'SpatialData' object has no attribute 'pl'",
     "output_type": "error",
     "traceback": [
      "\u001b[31m---------------------------------------------------------------------------\u001b[39m",
      "\u001b[31mAttributeError\u001b[39m                            Traceback (most recent call last)",
      "\u001b[36mCell\u001b[39m\u001b[36m \u001b[39m\u001b[32mIn[4]\u001b[39m\u001b[32m, line 3\u001b[39m\n\u001b[32m      1\u001b[39m my_gene = \u001b[33m\"\u001b[39m\u001b[33mItpka\u001b[39m\u001b[33m\"\u001b[39m\n\u001b[32m      2\u001b[39m \u001b[38;5;66;03m# broken (multiple table not yet supported in spatialdata-plot), this is being fix in https://github.com/scverse/spatialdata-plot/pull/220\u001b[39;00m\n\u001b[32m----> \u001b[39m\u001b[32m3\u001b[39m \u001b[43msdata\u001b[49m\u001b[43m.\u001b[49m\u001b[43mpl\u001b[49m.render_images(\u001b[33m\"\u001b[39m\u001b[33mV1_Adult_Mouse_Brain_hires_image\u001b[39m\u001b[33m\"\u001b[39m).pl.render_shapes(color=my_gene).pl.show()\n\u001b[32m      4\u001b[39m plt.show()\n",
      "\u001b[31mAttributeError\u001b[39m: 'SpatialData' object has no attribute 'pl'"
     ]
    }
   ],
   "source": [
    "my_gene = \"Itpka\"\n",
    "# broken (multiple table not yet supported in spatialdata-plot), this is being fix in https://github.com/scverse/spatialdata-plot/pull/220\n",
    "sdata.pl.render_images(\"V1_Adult_Mouse_Brain_hires_image\").pl.render_shapes(color=my_gene).pl.show()\n",
    "plt.show()"
   ]
  },
  {
   "cell_type": "code",
   "execution_count": 5,
   "metadata": {},
   "outputs": [
    {
     "ename": "ModuleNotFoundError",
     "evalue": "No module named 'squidpy'",
     "output_type": "error",
     "traceback": [
      "\u001b[31m---------------------------------------------------------------------------\u001b[39m",
      "\u001b[31mModuleNotFoundError\u001b[39m                       Traceback (most recent call last)",
      "\u001b[36mCell\u001b[39m\u001b[36m \u001b[39m\u001b[32mIn[5]\u001b[39m\u001b[32m, line 5\u001b[39m\n\u001b[32m      3\u001b[39m \u001b[38;5;28;01mimport\u001b[39;00m\u001b[38;5;250m \u001b[39m\u001b[34;01mmatplotlib\u001b[39;00m\u001b[34;01m.\u001b[39;00m\u001b[34;01mpyplot\u001b[39;00m\u001b[38;5;250m \u001b[39m\u001b[38;5;28;01mas\u001b[39;00m\u001b[38;5;250m \u001b[39m\u001b[34;01mplt\u001b[39;00m\n\u001b[32m      4\u001b[39m \u001b[38;5;28;01mimport\u001b[39;00m\u001b[38;5;250m \u001b[39m\u001b[34;01mscanpy\u001b[39;00m\u001b[38;5;250m \u001b[39m\u001b[38;5;28;01mas\u001b[39;00m\u001b[38;5;250m \u001b[39m\u001b[34;01msc\u001b[39;00m\n\u001b[32m----> \u001b[39m\u001b[32m5\u001b[39m \u001b[38;5;28;01mimport\u001b[39;00m\u001b[38;5;250m \u001b[39m\u001b[34;01msquidpy\u001b[39;00m\u001b[38;5;250m \u001b[39m\u001b[38;5;28;01mas\u001b[39;00m\u001b[38;5;250m \u001b[39m\u001b[34;01msq\u001b[39;00m\n\u001b[32m      6\u001b[39m \u001b[38;5;28;01mfrom\u001b[39;00m\u001b[38;5;250m \u001b[39m\u001b[34;01mspatialdata\u001b[39;00m\u001b[34;01m.\u001b[39;00m\u001b[34;01mdatasets\u001b[39;00m\u001b[38;5;250m \u001b[39m\u001b[38;5;28;01mimport\u001b[39;00m blobs_annotating_element\n\u001b[32m      7\u001b[39m \u001b[38;5;28;01mfrom\u001b[39;00m\u001b[38;5;250m \u001b[39m\u001b[34;01mspatialdata\u001b[39;00m\u001b[34;01m.\u001b[39;00m\u001b[34;01mtransformations\u001b[39;00m\u001b[38;5;250m \u001b[39m\u001b[38;5;28;01mimport\u001b[39;00m Affine, set_transformation\n",
      "\u001b[31mModuleNotFoundError\u001b[39m: No module named 'squidpy'"
     ]
    }
   ],
   "source": [
    "from typing import Literal\n",
    "\n",
    "import matplotlib.pyplot as plt\n",
    "import scanpy as sc\n",
    "import squidpy as sq\n",
    "from spatialdata.datasets import blobs_annotating_element\n",
    "from spatialdata.transformations import Affine, set_transformation\n",
    "from spatialdata_io.experimental import from_legacy_anndata, to_legacy_anndata\n",
    "\n",
    "BlobsTypes = Literal[\"blobs_labels\", \"blobs_circles\", \"blobs_polygons\", \"blobs_multipolygons\"]"
   ]
  }
 ],
 "metadata": {
  "kernelspec": {
   "display_name": "env_SpatialData",
   "language": "python",
   "name": "python3"
  },
  "language_info": {
   "codemirror_mode": {
    "name": "ipython",
    "version": 3
   },
   "file_extension": ".py",
   "mimetype": "text/x-python",
   "name": "python",
   "nbconvert_exporter": "python",
   "pygments_lexer": "ipython3",
   "version": "3.12.9"
  }
 },
 "nbformat": 4,
 "nbformat_minor": 2
}
