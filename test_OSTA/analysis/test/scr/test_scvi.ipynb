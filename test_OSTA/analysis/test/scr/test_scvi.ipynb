{
 "cells": [
  {
   "cell_type": "code",
   "execution_count": 1,
   "metadata": {},
   "outputs": [
    {
     "name": "stdout",
     "output_type": "stream",
     "text": [
      "\u001b[34mINFO    \u001b[0m File \u001b[35m/media/edo/sandiskSSD/work/training/spatial_transcriptomic/test_OSTA/analysis/test/\u001b[0m\u001b[95mexpression.bin\u001b[0m    \n",
      "         already downloaded                                                                                        \n",
      "\u001b[34mINFO    \u001b[0m Loading Cortex data from                                                                                  \n",
      "         \u001b[35m/media/edo/sandiskSSD/work/training/spatial_transcriptomic/test_OSTA/analysis/test/\u001b[0m\u001b[95mexpression.bin\u001b[0m         \n"
     ]
    },
    {
     "name": "stderr",
     "output_type": "stream",
     "text": [
      "/home/edo/micromamba/envs/env_scvi/lib/python3.12/site-packages/docrep/decorators.py:43: SyntaxWarning: 'param_categorical_covariate_keys' is not a valid key!\n",
      "  doc = func(self, args[0].__doc__, *args[1:], **kwargs)\n",
      "/home/edo/micromamba/envs/env_scvi/lib/python3.12/site-packages/docrep/decorators.py:43: SyntaxWarning: 'param_continuous_covariate_keys' is not a valid key!\n",
      "  doc = func(self, args[0].__doc__, *args[1:], **kwargs)\n"
     ]
    },
    {
     "name": "stdout",
     "output_type": "stream",
     "text": [
      "\u001b[34mINFO    \u001b[0m Finished loading Cortex data                                                                              \n"
     ]
    },
    {
     "name": "stderr",
     "output_type": "stream",
     "text": [
      "/home/edo/micromamba/envs/env_scvi/lib/python3.12/site-packages/anndata/_core/aligned_df.py:68: ImplicitModificationWarning: Transforming to str index.\n",
      "  warnings.warn(\"Transforming to str index.\", ImplicitModificationWarning)\n"
     ]
    }
   ],
   "source": [
    "import scvi\n",
    "ad = scvi.data.cortex(save_path=\"../\")\n",
    "# save object\n",
    "ad.write(\"../cortex.h5ad\")"
   ]
  },
  {
   "cell_type": "code",
   "execution_count": 2,
   "metadata": {},
   "outputs": [
    {
     "data": {
      "text/plain": [
       "0            interneurons\n",
       "1            interneurons\n",
       "2            interneurons\n",
       "3            interneurons\n",
       "4            interneurons\n",
       "              ...        \n",
       "3000    endothelial-mural\n",
       "3001    endothelial-mural\n",
       "3002    endothelial-mural\n",
       "3003    endothelial-mural\n",
       "3004    endothelial-mural\n",
       "Name: cell_type, Length: 3005, dtype: category\n",
       "Categories (7, object): ['astrocytes_ependymal', 'endothelial-mural', 'interneurons', 'microglia', 'oligodendrocytes', 'pyramidal CA1', 'pyramidal SS']"
      ]
     },
     "execution_count": 2,
     "metadata": {},
     "output_type": "execute_result"
    }
   ],
   "source": [
    "ad.obs.cell_type"
   ]
  },
  {
   "cell_type": "code",
   "execution_count": 7,
   "metadata": {},
   "outputs": [
    {
     "name": "stdout",
     "output_type": "stream",
     "text": [
      "\u001b[31mSignature:\u001b[39m scvi.data.cortex(save_path: \u001b[33m'str'\u001b[39m = \u001b[33m'data/'\u001b[39m) -> \u001b[33m'anndata.AnnData'\u001b[39m\n",
      "\u001b[31mDocstring:\u001b[39m\n",
      "Loads cortex dataset.\n",
      "\n",
      "The\n",
      "`Mouse Cortex Cells dataset <https://storage.googleapis.com/linnarsson-lab-www-blobs/blobs/cortex/expression_mRNA_17-Aug-2014.txt>`_\n",
      "contains 3005 mouse cortex cells and gold-standard labels for seven distinct cell types. Each\n",
      "cell type corresponds to a cluster to recover.\n",
      "\n",
      "Parameters\n",
      "----------\n",
      "save_path\n",
      "    Location to use when saving/loading the data.\n",
      "\n",
      "Returns\n",
      "-------\n",
      "AnnData with batch info (``.obs['batch']``) and label info (``.obs['labels']``)\n",
      "\n",
      "Examples\n",
      "--------\n",
      ">>> import scvi\n",
      ">>> adata = scvi.data.cortex()\n",
      "\u001b[31mFile:\u001b[39m      ~/micromamba/envs/env_scvi/lib/python3.12/site-packages/scvi/data/_datasets.py\n",
      "\u001b[31mType:\u001b[39m      function"
     ]
    }
   ],
   "source": [
    "?scvi.data.cortex"
   ]
  }
 ],
 "metadata": {
  "kernelspec": {
   "display_name": "env_scvi",
   "language": "python",
   "name": "python3"
  },
  "language_info": {
   "codemirror_mode": {
    "name": "ipython",
    "version": 3
   },
   "file_extension": ".py",
   "mimetype": "text/x-python",
   "name": "python",
   "nbconvert_exporter": "python",
   "pygments_lexer": "ipython3",
   "version": "3.12.4"
  }
 },
 "nbformat": 4,
 "nbformat_minor": 2
}
